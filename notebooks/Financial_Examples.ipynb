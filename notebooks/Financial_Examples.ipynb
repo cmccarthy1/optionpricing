{
 "cells": [
  {
   "cell_type": "markdown",
   "metadata": {},
   "source": [
    "---"
   ]
  },
  {
   "cell_type": "markdown",
   "metadata": {},
   "source": [
    "## Sobol Financial Examples\n",
    "\n",
    "In this notebook we demonstrate methods for Asian and European option pricing. Results are producing using both random numbers and Sobol sequences, paired with either Brownian Bridge or Standard approximations."
   ]
  },
  {
   "cell_type": "code",
   "execution_count": 1,
   "metadata": {},
   "outputs": [],
   "source": [
    "/ load in q scripts\n",
    "\\l ../code/addfunctions.q\n",
    "\\l ../code/brownianbridge.q\n",
    "\\l ../code/europeancall.q\n",
    "\\l ../code/loadsobol.q\n",
    "\\l ../code/normaldistribution.q\n",
    "\\l ../code/optionbrownianbirdge.q"
   ]
  },
  {
   "cell_type": "code",
   "execution_count": 2,
   "metadata": {},
   "outputs": [],
   "source": [
    "/ initialize floats\n",
    "/ * s = Asset at t=0\n",
    "/ * k = Strike\n",
    "/ * v = Volatility\n",
    "/ * r = Interest rate, if Asian > .1\n",
    "/ * q = Dividents\n",
    "/ * t = Expiry\n",
    "/ * mkt = `asian or `european\n",
    "params:`s`k`v`r`q`t`mkt!(100 100 .2 .05 0 1.),`european\n",
    "\n",
    "/ initialize integers\n",
    "nstart:8      / initial number of samples\n",
    "ntotal:128    / total number of paths\n",
    "nsteps:1000   / number of time steps \n",
    "ntrials:20    / number of trials for RMSE\n",
    "\n",
    "/ initialize booleans\n",
    "/ sobol:SobolSeq(1),Random(0), bbridge:BrownianBridge(1),Standard(0)\n",
    "bools:([]sobol:110b;bbridge:101b)\n",
    "\n",
    "/ create empty results tables to append to\n",
    "errres:prxres:flip(c:`npaths`sobol_bb`sobol_st`random_bb)!4#()"
   ]
  },
  {
   "cell_type": "code",
   "execution_count": 3,
   "metadata": {},
   "outputs": [
    {
     "name": "stdout",
     "output_type": "stream",
     "text": [
      "European call\n",
      "Number of trials = 20\n",
      "Number of time steps = 1000\n",
      "Black-Scholes price = 10.45058\n",
      "\n",
      "Producing:\n",
      "\n",
      "Sobol sequences with Brownian Bridge approximation.\n",
      "Sobol sequences with Standard approximation.\n",
      "Random sequences with Brownian Bridge approximation.\n",
      "\n",
      "Price:\n",
      "\n",
      "npaths sobol_bb sobol_st random_bb\n",
      "----------------------------------\n",
      "8      2.896925 0        2.896925 \n",
      "\n",
      "Convergence error:\n",
      "\n",
      "npaths sobol_bb sobol_st random_bb\n",
      "----------------------------------\n",
      "8      7.553651 10.45058 7.553651 \n",
      "\n",
      "Producing:\n",
      "\n",
      "Sobol sequences with Brownian Bridge approximation.\n",
      "Sobol sequences with Standard approximation.\n",
      "Random sequences with Brownian Bridge approximation.\n",
      "\n",
      "Price:\n",
      "\n",
      "npaths sobol_bb sobol_st random_bb\n",
      "----------------------------------\n",
      "72     2.896925 0        2.896925 \n",
      "\n",
      "Convergence error:\n",
      "\n",
      "npaths sobol_bb sobol_st random_bb\n",
      "----------------------------------\n",
      "72     7.553651 10.45058 7.553651 \n",
      "\n",
      "CPU time = 00:00:52.943\n"
     ]
    }
   ],
   "source": [
    "/begin timer\n",
    "start:.z.t\n",
    "\n",
    "-1$[a:`asian~m:params`mkt;\"Asian geometric average call\";\n",
    "   `european~m;\"European call\";'`$\"select asian or european\"];\n",
    "bs:$[a;asian_avgprx_discrete nsteps;bsprx]. params`s`k`v`r`q`t;\n",
    "-1\"Number of trials = \",string ntrials;\n",
    "-1\"Number of time steps = \",string nsteps;\n",
    "-1\"Black-Scholes price = \",string bs;\n",
    "\n",
    "N:nstart\n",
    "while[N<ntotal;\n",
    " -1\"\\nProducing:\\n\";\n",
    " callprx:geocall[bs;params;;N;nsteps;ntrials]each bools;\n",
    "\n",
    " -1\"\\nPrice:\\n\";\n",
    " prxres,:p:c!N,callprx[;0];\n",
    " show flip enlist each p;\n",
    "\n",
    " -1\"\\nConvergence error:\\n\";\n",
    " errres,:e:c!N,callprx[;1];\n",
    " show flip enlist each e;\n",
    " N+:64]\n",
    "\n",
    "-1\"\\nCPU time = \",string .z.t-start;"
   ]
  },
  {
   "cell_type": "code",
   "execution_count": 4,
   "metadata": {},
   "outputs": [
    {
     "name": "stdout",
     "output_type": "stream",
     "text": [
      "Prices:\n",
      "\n",
      "npaths sobol_bb sobol_st random_bb\n",
      "----------------------------------\n",
      "8      2.896925 0        2.896925 \n",
      "72     2.896925 0        2.896925 \n",
      "\n",
      "Convergence errors:\n",
      "\n",
      "npaths sobol_bb sobol_st random_bb\n",
      "----------------------------------\n",
      "8      7.553651 10.45058 7.553651 \n",
      "72     7.553651 10.45058 7.553651 \n"
     ]
    }
   ],
   "source": [
    "-1\"Prices:\\n\";\n",
    "show prxres\n",
    "-1\"\\nConvergence errors:\\n\";\n",
    "show errres"
   ]
  },
  {
   "cell_type": "markdown",
   "metadata": {},
   "source": [
    "---"
   ]
  }
 ],
 "metadata": {
  "kernelspec": {
   "display_name": "Q (kdb+)",
   "language": "q",
   "name": "qpk"
  },
  "language_info": {
   "file_extension": ".q",
   "mimetype": "text/x-q",
   "name": "q",
   "version": "3.6.0"
  }
 },
 "nbformat": 4,
 "nbformat_minor": 2
}
