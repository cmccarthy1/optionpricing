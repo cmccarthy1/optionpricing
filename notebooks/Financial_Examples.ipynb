{
 "cells": [
  {
   "cell_type": "markdown",
   "metadata": {},
   "source": [
    "## Sobol Financial Examples\n",
    "\n",
    "In this notebook we demonstrate methods for Asian and European option pricing. Results are producing using both random numbers and Sobol sequences, paired with either Brownian Bridge or Standard approximations.\n",
    "\n",
    "We're pricing 2 types of call option (European and Asian), using 2 techniques\n",
    "* Black Scholes\n",
    "* Monte Carlo\n",
    "\n",
    "The Black Scholes functions\n",
    "* bsEuroCall\n",
    "* bsAsiaCall\n",
    "give a closed-form solution, with a deterministic result.\n",
    "Only dependence is the CumulativeNormal function from NormalDistribution.\n",
    "\n",
    "The Monte Carlo functions\n",
    "* mcEuroCall\n",
    "* mcAsiaCall\n",
    "each perform a number (nPaths) of random experiments.\n",
    "\n",
    "For each experiment, we\n",
    "1) Generate a number (nSteps) of random numbers (Uniform or Sobol)\n",
    "2) Convert into N(0,1) random numbers (using InverseCumulativeNormal)\n",
    "3) Convert into a Wiener path random walk (using standard or Brownian bridge method)\n",
    "4) Convert into an asset price path, based on params (s,v,r,q,t)\n",
    "5) Convert into an option price, based on option type and strike price (k)\n",
    "Then average the prices to get a final predicted price\n",
    "\n",
    "For each option type, we generate\n",
    "* A single black scholes price\n",
    "* A number (nTrials) of monte carlo prices\n",
    "We can then take the RMSE of the MC prices, versus the BS price, to get an error.\n",
    "\n",
    "We repeat this, for increasing values of nPaths, and compare the resulting errors."
   ]
  },
  {
   "cell_type": "markdown",
   "metadata": {},
   "source": [
    "---"
   ]
  },
  {
   "cell_type": "code",
   "execution_count": 1,
   "metadata": {},
   "outputs": [],
   "source": [
    "/ load in q scripts\n",
    "\\l ../code/MonteCarlo.q\n",
    "\\l ../code/BlackScholes.q"
   ]
  },
  {
   "cell_type": "code",
   "execution_count": 2,
   "metadata": {},
   "outputs": [],
   "source": [
    "/ float variables\n",
    "/ * s = Asset at t=0\n",
    "/ * k = Strike\n",
    "/ * v = Volatility\n",
    "/ * r = Interest rate, if Asian > .1\n",
    "/ * q = Dividents\n",
    "/ * t = Expiry\n",
    "params:`s`k`v`r`q`t`mkt!(100 100 .2 .05 0 1.),`\n",
    "\n",
    "/ integer variables\n",
    "nSamplesStart:8      / initial number of samples\n",
    "nSamplesTotal:128    / total number of paths\n",
    "nsteps :1000         / number of time steps (per sample path)\n",
    "ntrials:20           / number of trials (for RMSE)\n",
    "\n",
    "/ booleans\n",
    "/ * sobol   = SobolSeq(1), Random(0)\n",
    "/ * bbridge = BrownianBridge(1), Standard(0)\n",
    "bools:([]sobol:110b;bbridge:101b)"
   ]
  },
  {
   "cell_type": "code",
   "execution_count": 13,
   "metadata": {},
   "outputs": [
    {
     "name": "stdout",
     "output_type": "stream",
     "text": [
      "European call\n",
      "Black-Scholes price = 10.45058\n",
      "No. paths, Conv Err. Sobol/B. Bridge, Conv Err. Sobol/Std, Conv Err. Random/B. Bridge, Last Option Price\n",
      "8 , 10.45058 , 10.45058 , 10.45058 , 0\n"
     ]
    }
   ],
   "source": [
    "-1\"European call\";\n",
    "params:params,enlist[`mkt]!enlist`european;\n",
    "t:.z.t;\n",
    "bs:bsEuroCall . params`s`k`v`r`q`t;\n",
    "-1\"Black-Scholes price = \",string bs;\n",
    "-1\"No. paths, Conv Err. Sobol/B. Bridge, Conv Err. Sobol/Std, Conv Err. Random/B. Bridge, Last Option Price\";\n",
    "N:nSamplesStart;\n",
    "mcTrials[;params;nsteps;N;ntrials]each bools;\n",
    "r:mcComparison[bs]each mcTrials[;params;nsteps;N;ntrials]each bools;\n",
    "-1\" , \"sv enlist[string N],string[r[;1]],enlist string last r[;0];"
   ]
  },
  {
   "cell_type": "code",
   "execution_count": 15,
   "metadata": {},
   "outputs": [
    {
     "name": "stdout",
     "output_type": "stream",
     "text": [
      "Asian call\n",
      "Black-Scholes price = 5.55152\n",
      "No. paths, Conv Err. Sobol/B. Bridge, Conv Err. Sobol/Std, Conv Err. Random/B. Bridge, Last Option Price\n",
      "8 , 8.509821 , 5.55152 , 14.60206 , 1.628969\n"
     ]
    }
   ],
   "source": [
    "-1\"Asian call\";\n",
    "params:params,enlist[`mkt]!enlist`asian;\n",
    "t:.z.t;\n",
    "bs:bsAsiaCall[nsteps] . params`s`k`v`r`q`t;\n",
    "-1\"Black-Scholes price = \",string bs;\n",
    "-1\"No. paths, Conv Err. Sobol/B. Bridge, Conv Err. Sobol/Std, Conv Err. Random/B. Bridge, Last Option Price\";\n",
    "N:nSamplesStart;\n",
    "r:mcComparison[bs]each mcTrials[;params;nsteps;N;ntrials]each bools;\n",
    "-1\" , \"sv enlist[string N],string[r[;1]],enlist string last r[;0];"
   ]
  },
  {
   "cell_type": "code",
   "execution_count": 16,
   "metadata": {},
   "outputs": [],
   "source": [
    "mainfnc:{[p;nstart;ntot;nsteps;ntrials;bools]\n",
    " -1$[b:`asian~p`mkt;\"Asian call\";\"European call\"];t:.z.t;\n",
    " bs:$[b;bsAsiaCall nsteps;bsEuroCall]. params`s`k`v`r`q`t;\n",
    " -1\"No. paths, Conv Err. Sobol/B. Bridge, Conv Err. Sobol/Std, Conv Err. Random/B. Bridge, Last Option Price\";\n",
    " N:nstart;\n",
    " while[N<ntot;\n",
    "  r:mcComparison[bs]each mcTrials[;params;nsteps;N;ntrials]each bools;\n",
    "  -1\" , \"sv enlist[string N],string[r[;1]],enlist string last r[;0];\n",
    "  N+:64];\n",
    " -1\"CPU time = \",string[.z.t-t],\"\\n\";}"
   ]
  },
  {
   "cell_type": "code",
   "execution_count": 17,
   "metadata": {},
   "outputs": [
    {
     "name": "stdout",
     "output_type": "stream",
     "text": [
      "European call\n",
      "No. paths, Conv Err. Sobol/B. Bridge, Conv Err. Sobol/Std, Conv Err. Random/B. Bridge, Last Option Price\n",
      "8 , 6.29553 , 10.45058 , 8.90528 , 1.405293\n",
      "72 , 6.29553 , 10.45058 , 10.03049 , 1.466703\n",
      "CPU time = 00:00:45.857\n",
      "\n",
      "Asian call\n",
      "No. paths, Conv Err. Sobol/B. Bridge, Conv Err. Sobol/Std, Conv Err. Random/B. Bridge, Last Option Price\n",
      "8 , 8.509821 , 5.55152 , 12.46473 , 1.397068\n",
      "72 , 8.509821 , 5.55152 , 13.01684 , 1.473137\n",
      "CPU time = 00:00:46.349\n",
      "\n"
     ]
    }
   ],
   "source": [
    "peuro :params,enlist[`mkt]!enlist`european\n",
    "pasian:params,enlist[`mkt]!enlist`asian\n",
    "mainfnc[;nSamplesStart;nSamplesTotal;nsteps;ntrials;bools]each(peuro;pasian);"
   ]
  },
  {
   "cell_type": "markdown",
   "metadata": {},
   "source": [
    "---"
   ]
  }
 ],
 "metadata": {
  "kernelspec": {
   "display_name": "Q (kdb+)",
   "language": "q",
   "name": "qpk"
  },
  "language_info": {
   "file_extension": ".q",
   "mimetype": "text/x-q",
   "name": "q",
   "version": "3.6.0"
  }
 },
 "nbformat": 4,
 "nbformat_minor": 2
}
