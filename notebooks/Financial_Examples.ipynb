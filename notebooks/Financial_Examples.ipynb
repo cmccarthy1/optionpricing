{
 "cells": [
  {
   "cell_type": "markdown",
   "metadata": {},
   "source": [
    "---"
   ]
  },
  {
   "cell_type": "markdown",
   "metadata": {},
   "source": [
    "In this notebook we demonstrate a method for European and Asian option pricing using the C++ SobolSeq library with Brownian Bridge approximation."
   ]
  },
  {
   "cell_type": "code",
   "execution_count": 1,
   "metadata": {},
   "outputs": [],
   "source": [
    "/ load in q scripts\n",
    "\\l ../code/addfunctions.q\n",
    "\\l ../code/brownianbridge.q\n",
    "\\l ../code/europeancall.q\n",
    "\\l ../code/loadsobol.q\n",
    "\\l ../code/normaldistribution.q\n",
    "\\l ../code/optionbrownianbirdge.q"
   ]
  },
  {
   "cell_type": "code",
   "execution_count": 2,
   "metadata": {},
   "outputs": [],
   "source": [
    "/ initialize floats\n",
    "/ * s = Asset at t=0\n",
    "/ * k = Strike\n",
    "/ * v = Volatility\n",
    "/ * r = Interest rate, if Asian > .1\n",
    "/ * q = Dividents\n",
    "/ * t = Expiry\n",
    "/ * mkt = `asian or `european\n",
    "params:`s`k`v`r`q`t`mkt!(100 100 .2 .05 0 1.),`european\n",
    "\n",
    "/ initialize integers\n",
    "nstart:8      / initial number of samples\n",
    "ntotal:1024   / total number of paths\n",
    "nsteps:1000   / number of time steps \n",
    "ntrials:20    / number of trials for RMSE\n",
    "npaths:1      / number of paths, i_N in C code\n",
    "\n",
    "/ initialize booleans\n",
    "bools:`sobol`bbridge!11b  /sobol: 1b=SobolSeq, 0b=Random, bbridge: 1b=BrownianBridge, 0b=Standard"
   ]
  },
  {
   "cell_type": "code",
   "execution_count": null,
   "metadata": {},
   "outputs": [
    {
     "name": "stdout",
     "output_type": "stream",
     "text": [
      "          \n",
      "European call\n",
      "Brownian Bridge approximation.\n",
      "Number of time steps = 1000\n",
      "Black-Scholes price = 10.45058\n",
      "\n",
      "Convergence error:\n",
      "\n",
      "npaths lastcallprx sobol_bb sobol_st random_bb\n",
      "----------------------------------------------\n",
      "8      2.896925    7.553651 10.45058 7.553651 \n",
      "\n",
      "Price:\n",
      "\n",
      "sobol_bb sobol_st random_bb\n",
      "---------------------------\n",
      "2.896925 0        2.896925 \n"
     ]
    }
   ],
   "source": [
    "/begin timer\n",
    "start:.z.t\n",
    "-1\"Running for \"string[ntrials],\" trials.\";\n",
    "\n",
    "bs:$[a:`asian~m:params`mkt;\n",
    " [-1\"Asian geometric average call\";asian_avgprx_discrete[nsteps]. params`s`k`v`r`q`t];\n",
    " `european~m;\n",
    " [-1\"European call\";bsprx . params`s`k`v`r`q`t];\n",
    " '`$\"select asian or european\"];\n",
    "\n",
    "-1$[bools`bbridge;\"Brownian Bridge\";\"Standard\"],\" approximation.\";\n",
    "-1\"Number of time steps = \",string nsteps;\n",
    "-1\"Black-Scholes price = \",string bs;\n",
    "\n",
    "/first loop \n",
    "N:nstart\n",
    "while[N<ntotal;\n",
    " callprx:geocall[bs;params;;N;nsteps;ntrials]each([]sobol:110b;bbridge:101b);\n",
    " price :`sobol_bb`sobol_st`random_bb!callprx[;0];\n",
    " cvgerr:`sobol_bb`sobol_st`random_bb!callprx[;1];\n",
    " -1\"\\nConvergence error:\\n\";\n",
    " show flip enlist each(`npaths`lastcallprx!(N;first last callprx)),cvgerr;\n",
    " -1\"\\nPrice:\\n\";\n",
    " show flip enlist each price;\n",
    " N+:64]\n",
    "\n",
    "-1\"\\nCPU time = \",string .z.t-start;"
   ]
  },
  {
   "cell_type": "markdown",
   "metadata": {},
   "source": [
    "---"
   ]
  }
 ],
 "metadata": {
  "kernelspec": {
   "display_name": "Q (kdb+)",
   "language": "q",
   "name": "qpk"
  },
  "language_info": {
   "file_extension": ".q",
   "mimetype": "text/x-q",
   "name": "q",
   "version": "3.6.0"
  }
 },
 "nbformat": 4,
 "nbformat_minor": 2
}
