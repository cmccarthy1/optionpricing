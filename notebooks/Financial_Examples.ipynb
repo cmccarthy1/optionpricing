{
 "cells": [
  {
   "cell_type": "markdown",
   "metadata": {},
   "source": [
    "## Sobol Financial Examples\n",
    "\n",
    "In this notebook we demonstrate methods for pricing 2 types of call option (European and Asian), using 2 techniques:\n",
    "- Black Scholes\n",
    "- Monte Carlo\n",
    "\n",
    "The Black Scholes functions:\n",
    "- `bsEuroCall`\n",
    "- `bsAsiaCall`\n",
    "give a closed-form solution, with a deterministic result. Their only dependence is the `cnorm` function from `NormalDistribution.q`.\n",
    "\n",
    "The Monte Carlo functions:\n",
    "- `mcEuroCall`\n",
    "- `mcAsiaCall`\n",
    "each perform a number (nPaths) of random experiments.\n",
    "\n",
    "For each experiment, we:\n",
    "1. Generate a number (nSteps) of random numbers (Uniform or Sobol)\n",
    "2. Convert into N(0,1) random numbers (using `invcnorm`)\n",
    "3. Convert into a Wiener path random walk (using Standard or Brownian Bridge method)\n",
    "4. Convert into an asset price path, based on params (s,v,r,q,t)\n",
    "5. Convert into an option price, based on option type and strike price (k)\n",
    "Then average the prices to get a final predicted price.\n",
    "\n",
    "For each option type, we generate:\n",
    "- A single Black Scholes price.\n",
    "- A number (nTrials) of Monte Carlo prices.\n",
    "We can then take the RMSE of the Monte Carlo prices, versus the Black Scholes price, to get an error.\n",
    "\n",
    "We repeat this, for increasing values of nPaths, and compare the resulting errors."
   ]
  },
  {
   "cell_type": "markdown",
   "metadata": {},
   "source": [
    "---"
   ]
  },
  {
   "cell_type": "code",
   "execution_count": 1,
   "metadata": {},
   "outputs": [],
   "source": [
    "/ load in q scripts\n",
    "\\l ../code/MonteCarlo.q\n",
    "\\l ../code/BlackScholes.q"
   ]
  },
  {
   "cell_type": "code",
   "execution_count": 2,
   "metadata": {},
   "outputs": [],
   "source": [
    "/ float variables\n",
    "/ * s = Asset at t=0\n",
    "/ * k = Strike\n",
    "/ * v = Volatility\n",
    "/ * r = Interest rate, if Asian > .1\n",
    "/ * q = Dividents\n",
    "/ * t = Expiry\n",
    "params:`s`k`v`r`q`t`mkt!(100 100 .2 .05 0 1.),`\n",
    "\n",
    "/ integer variables\n",
    "nSamplesStart:8      / initial number of samples\n",
    "nSamplesTotal:128    / total number of paths\n",
    "nsteps :1000         / number of time steps (per sample path)\n",
    "ntrials:20           / number of trials (for RMSE)\n",
    "\n",
    "/ booleans\n",
    "/ * sobol   = SobolSeq(1), Random(0)\n",
    "/ * bbridge = BrownianBridge(1), Standard(0)\n",
    "bools:([]sobol:110b;bbridge:101b)"
   ]
  },
  {
   "cell_type": "code",
   "execution_count": 3,
   "metadata": {},
   "outputs": [],
   "source": [
    "mainfnc:{[p;nstart;ntot;nsteps;ntrials;bools]\n",
    " -1$[b:`asian~p`mkt;\"Asian call\";\"European call\"];t:.z.t;\n",
    " bs:$[b;bsAsiaCall nsteps;bsEuroCall]. params`s`k`v`r`q`t;\n",
    " -1\"No. paths, Conv Err. Sobol/B. Bridge, Conv Err. Sobol/Std, Conv Err. Random/B. Bridge, Last Option Price\";\n",
    " N:nstart;\n",
    " while[N<ntot;\n",
    "  r:mcComparison[bs]each mcTrials[;params;nsteps;N;ntrials]each bools;\n",
    "  -1\" , \"sv enlist[string N],string[r[;1]],enlist string last r[;0];\n",
    "  N+:64];\n",
    " -1\"CPU time = \",string[.z.t-t],\"\\n\";}"
   ]
  },
  {
   "cell_type": "code",
   "execution_count": 4,
   "metadata": {},
   "outputs": [
    {
     "name": "stdout",
     "output_type": "stream",
     "text": [
      "European call\n",
      "No. paths, Conv Err. Sobol/B. Bridge, Conv Err. Sobol/Std, Conv Err. Random/B. Bridge, Last Option Price\n",
      "8 , 10.45058 , 10.45058 , 10.45058 , 0\n",
      "72 , 10.45058 , 10.45058 , 10.45058 , 0\n",
      "CPU time = 00:00:45.414\n",
      "\n",
      "Asian call\n",
      "No. paths, Conv Err. Sobol/B. Bridge, Conv Err. Sobol/Std, Conv Err. Random/B. Bridge, Last Option Price\n",
      "8 , 5.55152 , 5.55152 , 5.55152 , 0\n",
      "72 , 5.55152 , 5.55152 , 5.55152 , 0\n",
      "CPU time = 00:00:45.050\n",
      "\n"
     ]
    }
   ],
   "source": [
    "peuro :params,enlist[`mkt]!enlist`european\n",
    "pasian:params,enlist[`mkt]!enlist`asian\n",
    "mainfnc[;nSamplesStart;nSamplesTotal;nsteps;ntrials;bools]each(peuro;pasian);"
   ]
  },
  {
   "cell_type": "markdown",
   "metadata": {},
   "source": [
    "---"
   ]
  }
 ],
 "metadata": {
  "kernelspec": {
   "display_name": "Q (kdb+)",
   "language": "q",
   "name": "qpk"
  },
  "language_info": {
   "file_extension": ".q",
   "mimetype": "text/x-q",
   "name": "q",
   "version": "3.6.0"
  }
 },
 "nbformat": 4,
 "nbformat_minor": 2
}
